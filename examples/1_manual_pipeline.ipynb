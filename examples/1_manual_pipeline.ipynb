{
 "cells": [
  {
   "cell_type": "markdown",
   "id": "5ee77c92",
   "metadata": {},
   "source": [
    "## Manual Pipeline\n",
    "\n",
    "In the previous notebook `0_simulation.ipynb` we simulated dataset. Our simulated dataset includes __detections__ and __resection_mni__. Now we are ready to run `Manual detections pipeline` using __detections__ as manually selected spikes and compare the outlut to the __resection_mni__ (ground truth). In this notebook we have the following goals:\n",
    "1. Prepare and run irritative zone delineation using __detections__ timepoints.\n",
    "2. Evaluate the quality of the irritative zone prediction using __resection__.\n",
    "\n",
    "We will use the results presented in this nodebook as a baseline for the automated pipelines.\n",
    "\n",
    "NOTE: To import the megspikes modules we should change the working directory if we are running this example from the cloned GitHub repository."
   ]
  },
  {
   "cell_type": "code",
   "execution_count": null,
   "id": "64ca9e36",
   "metadata": {},
   "outputs": [],
   "source": [
    "import os\n",
    "from pathlib import Path\n",
    "\n",
    "import matplotlib.pylab as plt\n",
    "import mne\n",
    "import numpy as np\n",
    "\n",
    "from nilearn import plotting\n",
    "import nibabel as nb\n",
    "\n",
    "# change to the root directory of the project\n",
    "if os.getcwd().split(\"/\")[-1] == \"examples\":\n",
    "    os.chdir('..')\n",
    "\n",
    "from megspikes.simulation.simulation import Simulation\n",
    "\n",
    "# Setup the path for the simulation\n",
    "sample_path = Path(os.getcwd()) / 'examples' / 'data'\n",
    "sample_path.mkdir(exist_ok=True, parents=True)\n",
    "\n",
    "%load_ext autoreload\n",
    "%autoreload 2"
   ]
  },
  {
   "cell_type": "markdown",
   "id": "1dee896f",
   "metadata": {},
   "source": [
    "## Prepare the simulation"
   ]
  },
  {
   "cell_type": "code",
   "execution_count": null,
   "id": "1185593c",
   "metadata": {},
   "outputs": [],
   "source": [
    "sim = Simulation(sample_path, n_events=[15, 15, 0, 0])\n",
    "sim.simulate_dataset()\n",
    "sim"
   ]
  },
  {
   "cell_type": "markdown",
   "id": "1e447c80",
   "metadata": {},
   "source": [
    "`sim.detections` is an array of spike peak localizations in samples. We will use it as manual detections."
   ]
  },
  {
   "cell_type": "code",
   "execution_count": null,
   "id": "bcca49d9",
   "metadata": {},
   "outputs": [],
   "source": [
    "sim.detections"
   ]
  },
  {
   "cell_type": "markdown",
   "id": "6a331555",
   "metadata": {},
   "source": [
    "`sim.clusters` is an array of clusters that corresponds to the simulation source index."
   ]
  },
  {
   "cell_type": "code",
   "execution_count": null,
   "id": "15b08565",
   "metadata": {},
   "outputs": [],
   "source": [
    "sim.clusters"
   ]
  },
  {
   "cell_type": "markdown",
   "id": "3b5eec9c",
   "metadata": {},
   "source": [
    "## Run Manual Pipeline"
   ]
  },
  {
   "cell_type": "code",
   "execution_count": null,
   "id": "a97002fe",
   "metadata": {},
   "outputs": [],
   "source": [
    "from megspikes.pipeline import iz_prediction_pipeline\n",
    "from sklearn import set_config\n",
    "set_config(display='diagram')"
   ]
  },
  {
   "cell_type": "code",
   "execution_count": null,
   "id": "43bc246c",
   "metadata": {},
   "outputs": [],
   "source": [
    "params = {\n",
    "    'PrepareClustersDataset': {'detection_sfreq': 1000.}\n",
    "}\n",
    "pipe = iz_prediction_pipeline(sim.case_manager, params)\n",
    "pipe"
   ]
  },
  {
   "cell_type": "code",
   "execution_count": null,
   "id": "5f6ef809",
   "metadata": {
    "scrolled": true
   },
   "outputs": [],
   "source": [
    "detections = {\n",
    "    'spikes': sim.detections,\n",
    "    'spike_clusters': sim.clusters - 1\n",
    "}\n",
    "dataset, meg_data = pipe.fit_transform((detections, sim.raw_simulation.copy()))"
   ]
  },
  {
   "cell_type": "markdown",
   "id": "841f62ad",
   "metadata": {},
   "source": [
    "`dataset` is an instance of xarray.Dataset, and it includes all the results. We can explore the results and the corresponding metadata."
   ]
  },
  {
   "cell_type": "code",
   "execution_count": null,
   "id": "c7544d72",
   "metadata": {
    "scrolled": true
   },
   "outputs": [],
   "source": [
    "dataset"
   ]
  },
  {
   "cell_type": "markdown",
   "id": "62c7641d",
   "metadata": {},
   "source": [
    "## View localized cluster\n",
    "\n",
    "First we should convert numpy ndarray to mne.SourceEstimate. We use `array_to_stc` for this."
   ]
  },
  {
   "cell_type": "code",
   "execution_count": null,
   "id": "ae846cae",
   "metadata": {},
   "outputs": [],
   "source": [
    "from megspikes.localization.localization import array_to_stc\n",
    "\n",
    "stc = array_to_stc(dataset.mne_localization.values[0, 0, :, :],\n",
    "                   sim.case_manager.fwd['ico5'],\n",
    "                   sim.case_manager.case)"
   ]
  },
  {
   "cell_type": "markdown",
   "id": "17aaf18e",
   "metadata": {},
   "source": [
    "Now we can plot the cluster."
   ]
  },
  {
   "cell_type": "code",
   "execution_count": null,
   "id": "1c1d1dbf",
   "metadata": {},
   "outputs": [],
   "source": [
    "%matplotlib qt5\n",
    "brain = stc.plot(subjects_dir=sim.case_manager.freesurfer_dir, hemi='both')"
   ]
  },
  {
   "cell_type": "markdown",
   "id": "8332fc01",
   "metadata": {},
   "source": [
    "## View clusters using Cluster Slope Viewer"
   ]
  },
  {
   "cell_type": "code",
   "execution_count": null,
   "id": "2f58d795",
   "metadata": {},
   "outputs": [],
   "source": [
    "%matplotlib qt5\n",
    "import mne\n",
    "from megspikes.visualization.visualization import ClusterSlopeViewer\n",
    "mne.viz.set_3d_backend('pyvista')\n",
    "pn.extension()"
   ]
  },
  {
   "cell_type": "code",
   "execution_count": null,
   "id": "99c0f60f",
   "metadata": {},
   "outputs": [],
   "source": [
    "pc = ClusterSlopeViewer(dataset, sim.case_manager)"
   ]
  },
  {
   "cell_type": "code",
   "execution_count": null,
   "id": "a856794f",
   "metadata": {},
   "outputs": [],
   "source": [
    "pc.view()"
   ]
  },
  {
   "cell_type": "markdown",
   "id": "34162422",
   "metadata": {
    "scrolled": false
   },
   "source": [
    "Let's load the updated dataset to check it."
   ]
  },
  {
   "cell_type": "code",
   "execution_count": null,
   "id": "2f88abea",
   "metadata": {},
   "outputs": [],
   "source": [
    "import xarray as xr\n",
    "updated_ds = xr.load_dataset(pc.fname_save_ds)"
   ]
  },
  {
   "cell_type": "code",
   "execution_count": null,
   "id": "8fdb00da",
   "metadata": {},
   "outputs": [],
   "source": []
  },
  {
   "cell_type": "markdown",
   "id": "16944664",
   "metadata": {},
   "source": [
    "## Veiw IZ prediction"
   ]
  },
  {
   "cell_type": "code",
   "execution_count": null,
   "id": "8528ddf7",
   "metadata": {},
   "outputs": [],
   "source": [
    "from megspikes.localization.localization import array_to_stc\n",
    "stc = array_to_stc(dataset.iz_prediction.values[:, -1],\n",
    "                   sim.case_manager.fwd['ico5'],\n",
    "                   sim.case_manager.case)"
   ]
  },
  {
   "cell_type": "code",
   "execution_count": null,
   "id": "f3a13ddb",
   "metadata": {},
   "outputs": [],
   "source": [
    "%matplotlib qt5\n",
    "\n",
    "# Add function from visualization \n",
    "brain = stc.plot(subjects_dir=sim.case_manager.freesurfer_dir, hemi='both')"
   ]
  },
  {
   "cell_type": "code",
   "execution_count": null,
   "id": "d1013ed4",
   "metadata": {},
   "outputs": [],
   "source": []
  },
  {
   "cell_type": "markdown",
   "id": "4c022bc2",
   "metadata": {},
   "source": [
    "## Evaluate Irritative Zone prediction"
   ]
  },
  {
   "cell_type": "code",
   "execution_count": null,
   "id": "07c35669",
   "metadata": {},
   "outputs": [],
   "source": [
    "from megspikes.scoring.scoring import ScoreIZPrediction\n",
    "scorer = ScoreIZPrediction()"
   ]
  },
  {
   "cell_type": "code",
   "execution_count": null,
   "id": "bf98c729",
   "metadata": {
    "scrolled": true
   },
   "outputs": [],
   "source": [
    "scorer.score(dataset, sim.mni_resection, 'peak')"
   ]
  },
  {
   "cell_type": "markdown",
   "id": "81abac15",
   "metadata": {},
   "source": [
    "### Plot resection and prediction"
   ]
  },
  {
   "cell_type": "code",
   "execution_count": null,
   "id": "692c4d7d",
   "metadata": {},
   "outputs": [],
   "source": [
    "%matplotlib inline\n",
    "fig, ax = plt.subplots(figsize=(15, 7))\n",
    "\n",
    "# resection_nii = nb.as_closest_canonical(nb.load(sim.fresection))\n",
    "display = plotting.plot_glass_brain(\n",
    "            None, display_mode='lzry', figure=fig, axes=ax)\n",
    "\n",
    "display.add_markers(scorer.detection_mni, marker_color='tomato', alpha=0.2)\n",
    "display.add_markers(sim.mni_resection, marker_color='indigo', alpha=0.6)\n"
   ]
  },
  {
   "cell_type": "markdown",
   "id": "08c8a185",
   "metadata": {},
   "source": [
    "## Test noise levels"
   ]
  },
  {
   "cell_type": "code",
   "execution_count": null,
   "id": "e877e5cf",
   "metadata": {},
   "outputs": [],
   "source": [
    "params = {\n",
    "    'PrepareClustersDataset': {'detection_sfreq': 1000.}\n",
    "}\n",
    "detections = {\n",
    "    'spikes': sim.detections,\n",
    "    'clusters': sim.clusters - 1\n",
    "}\n",
    "\n",
    "for noise in [0.5, 1, 2, 5, 10]:\n",
    "    sim.simulate_dataset(noise_scaler=noise)\n",
    "    pipe = iz_prediction_pipeline(sim.case_manager, params)\n",
    "    dataset, _ = pipe.fit_transform((detections, sim.raw_simulation.copy()))\n",
    "    baseline_score = scorer.score(dataset, sim.mni_resection, 'baseline')\n",
    "    slope_score = scorer.score(dataset, sim.mni_resection, 'slope')\n",
    "    peak_score = scorer.score(dataset, sim.mni_resection, 'peak')\n",
    "    print(f\"Scores: baseline={baseline_score}, slope={slope_score}, peak={peak_score}\")"
   ]
  },
  {
   "cell_type": "code",
   "execution_count": null,
   "id": "30e5eac2",
   "metadata": {},
   "outputs": [],
   "source": []
  }
 ],
 "metadata": {
  "kernelspec": {
   "display_name": "Python 3.7.10 64-bit ('meg': conda)",
   "language": "python",
   "name": "python3710jvsc74a57bd088cc9035523eff0467ba4e14b04b14c109e54066ba0ed0b97ba61e29b1b30bdf"
  },
  "language_info": {
   "codemirror_mode": {
    "name": "ipython",
    "version": 3
   },
   "file_extension": ".py",
   "mimetype": "text/x-python",
   "name": "python",
   "nbconvert_exporter": "python",
   "pygments_lexer": "ipython3",
   "version": "3.7.10"
  }
 },
 "nbformat": 4,
 "nbformat_minor": 5
}
