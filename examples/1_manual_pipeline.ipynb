{
 "cells": [
  {
   "cell_type": "markdown",
   "id": "4c22bfcf",
   "metadata": {},
   "source": [
    "## Manual Pipeline\n",
    "\n",
    "In the previous notebook `0_simulation.ipynb` we simulated dataset. Our simulated dataset includes __detections__ and __resection_mni__. Now we are ready to run `Manual detections pipeline` using __detections__ as manually selected spikes and compare the outlut to the __resection_mni__ (ground truth). In this notebook we have the following goals:\n",
    "1. Prepare and run irritative zone delineation using __detections__ timepoints.\n",
    "2. Evaluate the quality of the irritative zone prediction using __resection__.\n",
    "\n",
    "We will use the results presented in this nodebook as a baseline for the automated pipelines.\n",
    "\n",
    "First, we import the simulation module and other packages. NOTE: To import the simulation we should change the working directory if we are running this example from the cloned GitHub repository."
   ]
  },
  {
   "cell_type": "code",
   "execution_count": null,
   "id": "9a4b294c",
   "metadata": {},
   "outputs": [],
   "source": [
    "import os\n",
    "from pathlib import Path\n",
    "\n",
    "import matplotlib.pylab as plt\n",
    "import mne\n",
    "import numpy as np\n",
    "\n",
    "from nilearn import plotting\n",
    "import nibabel as nb\n",
    "\n",
    "# change to the root directory of the project\n",
    "if os.getcwd().split(\"/\")[-1] == \"examples\":\n",
    "    os.chdir('..')\n",
    "\n",
    "from megspikes.simulation.simulation import Simulation\n",
    "\n",
    "# Setup the path for the simulation\n",
    "sample_path = Path(os.getcwd()) / 'examples' / 'data'\n",
    "sample_path.mkdir(exist_ok=True, parents=True)\n",
    "\n",
    "%load_ext autoreload\n",
    "%autoreload 2"
   ]
  },
  {
   "cell_type": "markdown",
   "id": "b82a1028",
   "metadata": {},
   "source": [
    "## Prepare the simulation"
   ]
  },
  {
   "cell_type": "code",
   "execution_count": null,
   "id": "a59a7125",
   "metadata": {},
   "outputs": [],
   "source": [
    "sim = Simulation(sample_path)\n",
    "sim.simulate_dataset()\n",
    "sim"
   ]
  },
  {
   "cell_type": "markdown",
   "id": "dfc7ef6b",
   "metadata": {},
   "source": [
    "`sim.detections` is an array of spike peak localizations in samples. We will use it as manual detections."
   ]
  },
  {
   "cell_type": "code",
   "execution_count": null,
   "id": "47cd842a",
   "metadata": {},
   "outputs": [],
   "source": [
    "sim.detections"
   ]
  },
  {
   "cell_type": "markdown",
   "id": "9bd895b7",
   "metadata": {},
   "source": [
    "`sim.clusters` is an array of clusters that corresponds to the simulation source index."
   ]
  },
  {
   "cell_type": "code",
   "execution_count": null,
   "id": "ddd482ed",
   "metadata": {},
   "outputs": [],
   "source": [
    "sim.clusters"
   ]
  },
  {
   "cell_type": "markdown",
   "id": "77a527d0",
   "metadata": {},
   "source": [
    "## Run Manual Pipeline"
   ]
  },
  {
   "cell_type": "code",
   "execution_count": null,
   "id": "6ea0fcef",
   "metadata": {},
   "outputs": [],
   "source": [
    "from megspikes.pipeline import manual_pipeline\n",
    "from megspikes.database.database import read_meg_info_for_database\n",
    "from sklearn import set_config\n",
    "set_config(display='diagram')"
   ]
  },
  {
   "cell_type": "code",
   "execution_count": null,
   "id": "2d6fbc57",
   "metadata": {},
   "outputs": [],
   "source": [
    "db = read_meg_info_for_database(\n",
    "    sim.case_manager.fif_file,\n",
    "    sim.case_manager.fwd['ico5'])"
   ]
  },
  {
   "cell_type": "code",
   "execution_count": null,
   "id": "072d4027",
   "metadata": {},
   "outputs": [],
   "source": [
    "pipe = manual_pipeline(sim.case_manager, db, \n",
    "                       sim.detections, sim.clusters - 1)\n",
    "pipe"
   ]
  },
  {
   "cell_type": "code",
   "execution_count": null,
   "id": "c5ad2893",
   "metadata": {},
   "outputs": [],
   "source": [
    "dataset, meg_data = pipe.fit_transform((None, sim.raw_simulation.copy()))"
   ]
  },
  {
   "cell_type": "markdown",
   "id": "6a0166bf",
   "metadata": {},
   "source": [
    "`dataset` is an instance of xarray.Dataset, and it includes all the results. We can explore the results and the corresponding metadata."
   ]
  },
  {
   "cell_type": "code",
   "execution_count": null,
   "id": "9433a07e",
   "metadata": {},
   "outputs": [],
   "source": [
    "dataset"
   ]
  },
  {
   "cell_type": "markdown",
   "id": "293ce813",
   "metadata": {},
   "source": [
    "## View localized cluster\n",
    "\n",
    "First we should convert numpy ndarray to mne.SourceEstimate. We use `array_to_stc` for this."
   ]
  },
  {
   "cell_type": "code",
   "execution_count": null,
   "id": "6def1bf6",
   "metadata": {},
   "outputs": [],
   "source": [
    "from megspikes.localization.localization import array_to_stc\n",
    "\n",
    "stc = array_to_stc(dataset.mne_localization.values[0, 0, :, :],\n",
    "                   sim.case_manager.fwd['ico5'],\n",
    "                   sim.case_manager.case)"
   ]
  },
  {
   "cell_type": "markdown",
   "id": "90494459",
   "metadata": {},
   "source": [
    "Now we can plot the cluster."
   ]
  },
  {
   "cell_type": "code",
   "execution_count": null,
   "id": "b6426797",
   "metadata": {},
   "outputs": [],
   "source": [
    "%matplotlib qt5\n",
    "brain = stc.plot(subjects_dir=sim.case_manager.freesurfer_dir, hemi='both')"
   ]
  },
  {
   "cell_type": "code",
   "execution_count": null,
   "id": "3006f6c3",
   "metadata": {},
   "outputs": [],
   "source": []
  }
 ],
 "metadata": {
  "kernelspec": {
   "display_name": "Python 3.7.10 64-bit ('meg': conda)",
   "language": "python",
   "name": "python3710jvsc74a57bd088cc9035523eff0467ba4e14b04b14c109e54066ba0ed0b97ba61e29b1b30bdf"
  },
  "language_info": {
   "codemirror_mode": {
    "name": "ipython",
    "version": 3
   },
   "file_extension": ".py",
   "mimetype": "text/x-python",
   "name": "python",
   "nbconvert_exporter": "python",
   "pygments_lexer": "ipython3",
   "version": "3.7.10"
  }
 },
 "nbformat": 4,
 "nbformat_minor": 5
}
