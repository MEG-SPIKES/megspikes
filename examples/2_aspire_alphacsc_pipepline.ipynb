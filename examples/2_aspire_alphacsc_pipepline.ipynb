{
 "cells": [
  {
   "cell_type": "markdown",
   "source": [
    "## Aspire + AlphaCSC pipeline\n",
    "\n",
    "In this notebook we will run automated spike detection pipeline and visualize the results. We will use simulation described in `0_simulation.ipynb`.\n",
    "\n",
    "NOTE: To import the megspikes modules we should change the working directory if we are running this example from the cloned GitHub repository."
   ],
   "metadata": {}
  },
  {
   "cell_type": "code",
   "execution_count": null,
   "source": [
    "import os\n",
    "from pathlib import Path\n",
    "\n",
    "import matplotlib.pylab as plt\n",
    "import mne\n",
    "import numpy as np\n",
    "\n",
    "# change to the root directory of the project\n",
    "if os.getcwd().split(\"/\")[-1] == \"examples\":\n",
    "    os.chdir('..')\n",
    "\n",
    "from megspikes.simulation.simulation import Simulation\n",
    "\n",
    "# Setup the path for the simulation\n",
    "sample_path = Path(os.getcwd()) / 'examples' / 'data' / '2_aspire_alphacsc_pipeline'\n",
    "sample_path.mkdir(exist_ok=True, parents=True)\n",
    "\n",
    "import logging\n",
    "import warnings\n",
    "warnings.filterwarnings(\"ignore\", category=DeprecationWarning) \n",
    "logger = logging.getLogger()\n",
    "logger.setLevel(logging.INFO)\n",
    "logging.debug(\"test debug\")\n",
    "logging.info(\"test info\")\n",
    "%load_ext autoreload\n",
    "%autoreload 2"
   ],
   "outputs": [],
   "metadata": {}
  },
  {
   "cell_type": "markdown",
   "source": [
    "## Simulate data\n",
    "\n",
    "For more information see `0_simulation.ipynb`"
   ],
   "metadata": {}
  },
  {
   "cell_type": "code",
   "execution_count": null,
   "source": [
    "sim = Simulation(sample_path)\n",
    "sim.simulate_dataset()\n",
    "sim"
   ],
   "outputs": [],
   "metadata": {
    "scrolled": false,
    "tags": []
   }
  },
  {
   "cell_type": "markdown",
   "source": [
    "## Run Aspire-AlphaCSC Pipeline"
   ],
   "metadata": {}
  },
  {
   "cell_type": "code",
   "execution_count": null,
   "source": [
    "from megspikes.pipeline import aspire_alphacsc_pipeline\n",
    "\n",
    "from sklearn import set_config\n",
    "set_config(display='diagram')\n",
    "set_config(print_changed_only=False)"
   ],
   "outputs": [],
   "metadata": {}
  },
  {
   "cell_type": "markdown",
   "source": [
    "First, we should specify pipeline parameters. All parameters are listed in the `aspire_alphacsc_default_params.yml`."
   ],
   "metadata": {}
  },
  {
   "cell_type": "code",
   "execution_count": null,
   "source": [
    "params = {\n",
    "    'n_ica_components': 5,\n",
    "    'n_runs': 3,\n",
    "    'runs': [0, 1, 2],\n",
    "    'n_atoms': 2,\n",
    "    'PeakDetection': {'width': 2},\n",
    "    'CleanDetections': {'n_cleaned_peaks': 50},\n",
    "    'SelectAlphacscEvents': {\n",
    "        'z_hat_threshold': 1.,\n",
    "        'z_hat_threshold_min': 0.1}\n",
    "}"
   ],
   "outputs": [],
   "metadata": {}
  },
  {
   "cell_type": "markdown",
   "source": [
    "Using this parameters we create `sklear.Pipeline`"
   ],
   "metadata": {}
  },
  {
   "cell_type": "code",
   "execution_count": null,
   "source": [
    "pipe = aspire_alphacsc_pipeline(sim.case_manager, params)\n",
    "pipe"
   ],
   "outputs": [],
   "metadata": {}
  },
  {
   "cell_type": "markdown",
   "source": [
    "We can also save it as an __HTML__ document"
   ],
   "metadata": {}
  },
  {
   "cell_type": "code",
   "execution_count": null,
   "source": [
    "from sklearn.utils import estimator_html_repr\n",
    "with open('my_estimator.html', 'w') as f:  \n",
    "    f.write(estimator_html_repr(pipe))"
   ],
   "outputs": [],
   "metadata": {}
  },
  {
   "cell_type": "markdown",
   "source": [
    "There is not input for this pipline, so we can run it with `X=None`. As an output we aquire `xr.Dataset` with all results and `mne.io.Raw` file."
   ],
   "metadata": {}
  },
  {
   "cell_type": "code",
   "execution_count": null,
   "source": [
    "dataset, raw = pipe.fit_transform(None)"
   ],
   "outputs": [],
   "metadata": {
    "jupyter": {
     "outputs_hidden": true
    },
    "tags": []
   }
  },
  {
   "cell_type": "markdown",
   "source": [
    "Now we can also load created dataset."
   ],
   "metadata": {}
  },
  {
   "cell_type": "code",
   "execution_count": null,
   "source": [
    "import xarray as xr\n",
    "dataset = xr.open_dataset(sample_path / 'sample' / 'sample_alphacsc_results.nc')"
   ],
   "outputs": [],
   "metadata": {
    "scrolled": true
   }
  },
  {
   "cell_type": "markdown",
   "source": [
    "# Visualize detection\n"
   ],
   "metadata": {}
  },
  {
   "cell_type": "code",
   "execution_count": null,
   "source": [
    "from megspikes.visualization.visualization import DetectionsViewer\n",
    "pp = DetectionsViewer(dataset, sim.case_manager)"
   ],
   "outputs": [],
   "metadata": {}
  },
  {
   "cell_type": "markdown",
   "source": [
    "## Plot ICA components\n"
   ],
   "metadata": {}
  },
  {
   "cell_type": "code",
   "execution_count": null,
   "source": [
    "app = pp.view_ica()\n",
    "app.show()"
   ],
   "outputs": [],
   "metadata": {
    "tags": []
   }
  },
  {
   "cell_type": "markdown",
   "source": [
    "## Plot ICA sources and detections\n"
   ],
   "metadata": {
    "tags": []
   }
  },
  {
   "cell_type": "code",
   "execution_count": null,
   "source": [
    "app = pp.view_ica_sources_and_peaks()\n",
    "app.show()"
   ],
   "outputs": [],
   "metadata": {}
  },
  {
   "cell_type": "markdown",
   "source": [
    "## Plot ICA fast RAP-MUSIC localizatons"
   ],
   "metadata": {
    "tags": []
   }
  },
  {
   "cell_type": "code",
   "execution_count": null,
   "source": [
    "dataset"
   ],
   "outputs": [],
   "metadata": {}
  },
  {
   "cell_type": "markdown",
   "source": [
    "## Plot AlphaCSC atoms"
   ],
   "metadata": {}
  },
  {
   "cell_type": "code",
   "execution_count": null,
   "source": [
    "pp.data.alphacsc_atoms"
   ],
   "outputs": [],
   "metadata": {}
  },
  {
   "cell_type": "code",
   "execution_count": null,
   "source": [],
   "outputs": [],
   "metadata": {}
  },
  {
   "cell_type": "code",
   "execution_count": null,
   "source": [
    "app = pp.view_alphacsc_atoms()\n",
    "app.show()"
   ],
   "outputs": [],
   "metadata": {
    "jupyter": {
     "outputs_hidden": true
    },
    "tags": []
   }
  },
  {
   "cell_type": "markdown",
   "source": [
    "## Plot AlphaCSC selected evets"
   ],
   "metadata": {}
  },
  {
   "cell_type": "code",
   "execution_count": null,
   "source": [
    "app = pp.view_alphacsc_clusters(sim.raw_simulation.copy())\n",
    "app.show()"
   ],
   "outputs": [],
   "metadata": {}
  },
  {
   "cell_type": "code",
   "execution_count": null,
   "source": [],
   "outputs": [],
   "metadata": {}
  },
  {
   "cell_type": "markdown",
   "source": [
    "# Localize detected clusters"
   ],
   "metadata": {}
  },
  {
   "cell_type": "code",
   "execution_count": null,
   "source": [
    "from megspikes.pipeline import read_detection_iz_prediction_pipeline\n",
    "from sklearn import set_config\n",
    "set_config(display='diagram')\n",
    "set_config(print_changed_only=False)"
   ],
   "outputs": [],
   "metadata": {}
  },
  {
   "cell_type": "code",
   "execution_count": null,
   "source": [
    "params = {\n",
    "    'PrepareClustersDataset': {'detection_sfreq': 200.}\n",
    "}\n",
    "pipe = read_detection_iz_prediction_pipeline(sim.case_manager, params)\n",
    "pipe"
   ],
   "outputs": [],
   "metadata": {}
  },
  {
   "cell_type": "code",
   "execution_count": null,
   "source": [
    "clusters, raw = pipe.fit_transform((dataset, sim.raw_simulation.copy()))"
   ],
   "outputs": [],
   "metadata": {}
  },
  {
   "cell_type": "code",
   "execution_count": null,
   "source": [
    "clusters"
   ],
   "outputs": [],
   "metadata": {}
  },
  {
   "cell_type": "code",
   "execution_count": null,
   "source": [
    "import xarray as xr\n",
    "clusters = xr.open_dataset(sample_path / 'sample' / 'sample_alphacsc_cluster_results.nc')"
   ],
   "outputs": [],
   "metadata": {}
  },
  {
   "cell_type": "markdown",
   "source": [
    "## View clusters using Cluster Slope Viewer"
   ],
   "metadata": {}
  },
  {
   "cell_type": "code",
   "execution_count": null,
   "source": [
    "import mne\n",
    "mne.viz.set_3d_backend('pyvista')"
   ],
   "outputs": [],
   "metadata": {}
  },
  {
   "cell_type": "code",
   "execution_count": null,
   "source": [
    "from megspikes.visualization.visualization import ClusterSlopeViewer\n",
    "import panel as pn\n"
   ],
   "outputs": [],
   "metadata": {}
  },
  {
   "cell_type": "code",
   "execution_count": null,
   "source": [
    "%matplotlib qt5\n",
    "pc = ClusterSlopeViewer(clusters, sim.case_manager)\n",
    "pc.data.clusters"
   ],
   "outputs": [],
   "metadata": {
    "tags": []
   }
  },
  {
   "cell_type": "code",
   "execution_count": null,
   "source": [
    "pc.view()"
   ],
   "outputs": [],
   "metadata": {}
  },
  {
   "cell_type": "code",
   "execution_count": null,
   "source": [],
   "outputs": [],
   "metadata": {}
  },
  {
   "cell_type": "markdown",
   "source": [
    "## Evaluate Irritative Zone prediction"
   ],
   "metadata": {}
  },
  {
   "cell_type": "code",
   "execution_count": null,
   "source": [
    "from megspikes.scoring.scoring import ScoreIZPrediction\n",
    "scorer = ScoreIZPrediction()"
   ],
   "outputs": [],
   "metadata": {}
  },
  {
   "cell_type": "code",
   "execution_count": null,
   "source": [
    "scorer.score(clusters, sim.mni_resection, 'peak')"
   ],
   "outputs": [],
   "metadata": {}
  },
  {
   "cell_type": "code",
   "execution_count": null,
   "source": [
    "scorer.score(clusters, sim.mni_resection, 'slope')"
   ],
   "outputs": [],
   "metadata": {}
  },
  {
   "cell_type": "markdown",
   "source": [
    "### Plot resection and prediction"
   ],
   "metadata": {}
  },
  {
   "cell_type": "code",
   "execution_count": null,
   "source": [
    "%matplotlib inline\n",
    "from nilearn import plotting\n",
    "fig, ax = plt.subplots(figsize=(15, 7))\n",
    "\n",
    "display = plotting.plot_glass_brain(\n",
    "            None, display_mode='lzry', figure=fig, axes=ax)\n",
    "\n",
    "display.add_markers(scorer.detection_mni, marker_color='tomato', alpha=0.2)\n",
    "display.add_markers(sim.mni_resection, marker_color='indigo', alpha=0.6)"
   ],
   "outputs": [],
   "metadata": {}
  },
  {
   "cell_type": "code",
   "execution_count": null,
   "source": [],
   "outputs": [],
   "metadata": {}
  }
 ],
 "metadata": {
  "interpreter": {
   "hash": "88cc9035523eff0467ba4e14b04b14c109e54066ba0ed0b97ba61e29b1b30bdf"
  },
  "kernelspec": {
   "display_name": "Python 3.7.10 64-bit ('meg': conda)",
   "language": "python",
   "name": "python3710jvsc74a57bd088cc9035523eff0467ba4e14b04b14c109e54066ba0ed0b97ba61e29b1b30bdf"
  },
  "language_info": {
   "codemirror_mode": {
    "name": "ipython",
    "version": 3
   },
   "file_extension": ".py",
   "mimetype": "text/x-python",
   "name": "python",
   "nbconvert_exporter": "python",
   "pygments_lexer": "ipython3",
   "version": "3.7.10"
  }
 },
 "nbformat": 4,
 "nbformat_minor": 4
}