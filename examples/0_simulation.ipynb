{
 "cells": [
  {
   "cell_type": "markdown",
   "source": [
    "# Simulation\n",
    "\n",
    "In this notebook, we simulate raw MEG data with epileptic spikes that we use to test pipelines and in other examples. For the simulation we use MNE-Python [sample dataset](https://mne.tools/stable/overview/datasets_index.html#sample). We pursue following goals:\n",
    "1. to simulate raw MEG data that include events similar to epileptic spikes;\n",
    "2. to simulate the resection area which we will use as a ground truth to test the detection pipelines;\n",
    "3. to evaluate the signal-to-noise ratio of simulated events.\n",
    "\n",
    "First, we import the `simulation` module and other packages. \n",
    "NOTE: To import `simulation` the working directory should be changed if the example is run from the cloned GitHub repository.\n"
   ],
   "metadata": {}
  },
  {
   "cell_type": "code",
   "execution_count": null,
   "source": [
    "import os\n",
    "from pathlib import Path\n",
    "\n",
    "import matplotlib.pylab as plt\n",
    "import mne\n",
    "import numpy as np\n",
    "\n",
    "from nilearn import plotting\n",
    "import nibabel as nb\n",
    "\n",
    "# change to the root directory of the project\n",
    "if os.getcwd().split(\"/\")[-1] == \"examples\":\n",
    "    os.chdir('..')\n",
    "\n",
    "from megspikes.simulation.simulation import Simulation\n",
    "\n",
    "# Setup the path for the simulation\n",
    "sample_path = Path(os.getcwd()) / 'examples' / 'data' / '0_simulation'\n",
    "sample_path.mkdir(exist_ok=True, parents=True)\n",
    "\n",
    "%load_ext autoreload\n",
    "%autoreload 2"
   ],
   "outputs": [],
   "metadata": {}
  },
  {
   "cell_type": "markdown",
   "source": [
    "## Create new Simulation class instance"
   ],
   "metadata": {}
  },
  {
   "cell_type": "code",
   "execution_count": null,
   "source": [
    "# 15 events for each spike shape\n",
    "n_events = [15, 15, 15, 15]\n",
    "\n",
    "# all spike shape are simulated in the separate time\n",
    "simultaneous = [False]*4\n",
    "\n",
    "sim = Simulation(sample_path, n_events=n_events,\n",
    "                 simultaneous=simultaneous)\n",
    "sim"
   ],
   "outputs": [],
   "metadata": {}
  },
  {
   "cell_type": "markdown",
   "source": [
    "## Spike shapes\n",
    "\n",
    "For the simulation we use four different spike shapes extracted from the stereo-EEG recording. `sim.activations` contains the list with labels and amplitudes for each spike shape. In the next cell we plot spike shapes and the peak for each spike shape. We will use these peaks to annotate simulated raw data and estimate signal-to-noise ratio."
   ],
   "metadata": {}
  },
  {
   "cell_type": "code",
   "execution_count": null,
   "source": [
    "fig, ax = plt.subplots(2, 2, figsize=(10, 7))\n",
    "for i, (key, var) in zip(range(4), sim.activations.items()):\n",
    "    axi = ax.flatten()[i]\n",
    "    axi.plot(sim.spike_shapes[i])\n",
    "    axi.scatter(\n",
    "        sim.max_times[i], sim.spike_shapes[i][sim.max_times[i]],\n",
    "        c='r', marker='x', s=60, label='Absolute max')\n",
    "    peak = int(sim.peak_times[i]*1000)\n",
    "    axi.scatter(\n",
    "        peak, sim.spike_shapes[i][peak], c='g', marker='o', label='Peak')\n",
    "    axi.legend()\n",
    "    axi.set_title(f\"{key}\\n{var[0][0]} with amplitude {var[0][1]}\")\n",
    "    axi.set_xlabel(\"$Time [ms]$\")\n",
    "    axi.set_ylabel(\"$Amplitude [AU]$\")\n",
    "plt.tight_layout()\n",
    "plt.show()"
   ],
   "outputs": [],
   "metadata": {}
  },
  {
   "cell_type": "markdown",
   "source": [
    "## Simulate raw\n",
    "\n",
    "To simulate raw data we follow the MNE-Python [tutorial](https://mne.tools/stable/auto_examples/simulation/simulated_raw_data_using_subject_anatomy.html). We simulate raw data and dataset by calling `sim.simulate_dataset`."
   ],
   "metadata": {}
  },
  {
   "cell_type": "code",
   "execution_count": null,
   "source": [
    "# multiply the noise covarince by the scaler\n",
    "noise_scaler = 1\n",
    "\n",
    "# simulate dataset\n",
    "sim.simulate_dataset(noise_scaler=noise_scaler)\n",
    "\n",
    "# filter simulated raw data\n",
    "sim.raw_simulation.filter(2, 90)\n",
    "sim.raw_simulation.info"
   ],
   "outputs": [],
   "metadata": {}
  },
  {
   "cell_type": "markdown",
   "source": [
    "`sim.simulate_dataset` function added the annotation for the simulated raw data at the peak. We can display the simulated raw data using `mne.io.Raw.plot()`."
   ],
   "metadata": {}
  },
  {
   "cell_type": "code",
   "execution_count": null,
   "source": [
    "%matplotlib qt5\n",
    "\n",
    "sim.raw_simulation.plot(block=True);"
   ],
   "outputs": [],
   "metadata": {}
  },
  {
   "cell_type": "markdown",
   "source": [
    "Using the annotation we can create epochs for each channel type. Note that we have 14 events instead of 15 for the first and the last simulated spikes shape. This happens because there is no one-second window around the first and the last event in the simulation."
   ],
   "metadata": {}
  },
  {
   "cell_type": "code",
   "execution_count": null,
   "source": [
    "events = mne.events_from_annotations(sim.raw_simulation)\n",
    "epochs_grad = mne.Epochs(\n",
    "    sim.raw_simulation, events[0], events[1], tmin=-0.5, tmax=0.5,\n",
    "    baseline=None, preload=True, reject_by_annotation=False,\n",
    "    proj=False, picks='grad')\n",
    "epochs_mag = mne.Epochs(\n",
    "    sim.raw_simulation, events[0], events[1], tmin=-0.5, tmax=0.5,\n",
    "    baseline=None, preload=True, reject_by_annotation=False,\n",
    "    proj=False, picks='mag')\n",
    "print(epochs_mag, '\\n', epochs_grad)"
   ],
   "outputs": [],
   "metadata": {}
  },
  {
   "cell_type": "markdown",
   "source": [
    "We can plot the average simulated events for the __spike shape 4__."
   ],
   "metadata": {}
  },
  {
   "cell_type": "code",
   "execution_count": null,
   "source": [
    "%matplotlib inline\n",
    "epochs_grad['SRC4'].average().plot();"
   ],
   "outputs": [],
   "metadata": {}
  },
  {
   "cell_type": "markdown",
   "source": [
    "## Plot sources locations\n",
    "\n",
    "\n",
    "We can plot the locations of the labels on the glass brain. Later we will call this a __resection area__ and use these locations as a ground truth to compare with the results of our detection pipelines."
   ],
   "metadata": {}
  },
  {
   "cell_type": "code",
   "execution_count": null,
   "source": [
    "%matplotlib inline\n",
    "fig, ax = plt.subplots(figsize=(15, 7))\n",
    "\n",
    "# resection_nii = nb.as_closest_canonical(nb.load(sim.fresection))\n",
    "display = plotting.plot_glass_brain(\n",
    "            None, display_mode='lzry', figure=fig, axes=ax)\n",
    "\n",
    "display.add_markers(sim.mni_resection, marker_color='indigo', alpha=0.6)\n"
   ],
   "outputs": [],
   "metadata": {}
  },
  {
   "cell_type": "markdown",
   "source": [
    "# SNR\n",
    "\n",
    "To test how the signal-to-noise ratio influenses our detection we estimate it using the channels' amplitude of the simulated events.\n",
    "\n",
    "Signal-to-noise ratio was defined as follows:\n",
    "\n",
    "$$10*\\log_{10} \\left( \\frac{1}{N_{ch}}\\sum_{k=1}^{N_{ch}} \\frac{\\frac{1}{N_{tr}}\\sum_{t=1}^{N_{tr}}a_{k}^2}{\\frac{1}{N_{tr}}\\sum_{t=1}^{N_{tr}}s_{k}^2} \\right) \\tag{1}$$\n",
    "\n",
    "where $a_{k}^2$ is the mean $amplitude^2$ around the peak (+-20 ms) of the channel $k$, $s_{k}^2$ is the noise variance of this channel, $N_{tr}$ is number of trials and $N_{ch}$ is the number of channels. We estimated two SNRs: SNR for all channels and SNR for the first 20 channels with the maximum amplitude.\n"
   ],
   "metadata": {}
  },
  {
   "cell_type": "markdown",
   "source": [
    "We plot the average $amplitude^2$ across a trial for all channels as well as for 20 channels with the maximum amplitude using `plot_epochs_snr`."
   ],
   "metadata": {}
  },
  {
   "cell_type": "code",
   "execution_count": null,
   "source": [
    "%matplotlib inline\n",
    "from megspikes.visualization.visualization import plot_epochs_snr\n",
    "\n",
    "for src in epochs_grad.event_id.keys():\n",
    "    plot_epochs_snr(epochs_grad, src)\n",
    "    plt.show()"
   ],
   "outputs": [],
   "metadata": {}
  },
  {
   "cell_type": "code",
   "execution_count": null,
   "source": [],
   "outputs": [],
   "metadata": {}
  }
 ],
 "metadata": {
  "interpreter": {
   "hash": "88cc9035523eff0467ba4e14b04b14c109e54066ba0ed0b97ba61e29b1b30bdf"
  },
  "kernelspec": {
   "display_name": "Python 3",
   "language": "python",
   "name": "python3"
  },
  "language_info": {
   "codemirror_mode": {
    "name": "ipython",
    "version": 3
   },
   "file_extension": ".py",
   "mimetype": "text/x-python",
   "name": "python",
   "nbconvert_exporter": "python",
   "pygments_lexer": "ipython3",
   "version": "3.7.10"
  }
 },
 "nbformat": 4,
 "nbformat_minor": 2
}