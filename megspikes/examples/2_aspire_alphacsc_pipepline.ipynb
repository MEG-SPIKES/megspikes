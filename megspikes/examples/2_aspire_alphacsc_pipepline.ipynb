{
 "cells": [
  {
   "cell_type": "markdown",
   "metadata": {},
   "source": [
    "## Aspire + AlphaCSC pipeline\n",
    "\n",
    "In this notebook we will run automated spike detection pipeline and visualize the results. We will use simulation described in `0_simulation.ipynb`.\n",
    "This notebook pursues the following goals:\n",
    "\n",
    "1. to run the full detection pipeline using the combination of ASPIRE and aSCS algorithms;\n",
    "2. to visualize each step using an interactive visualision tool `panel`.\n",
    "\n",
    "NOTE: To import `simulation` the working directory should be changed if the example is run from the cloned GitHub repository.\n"
   ]
  },
  {
   "cell_type": "code",
   "execution_count": null,
   "metadata": {},
   "outputs": [],
   "source": [
    "import os\n",
    "from pathlib import Path\n",
    "\n",
    "import matplotlib.pylab as plt\n",
    "import mne\n",
    "import numpy as np\n",
    "mne.viz.set_3d_backend('pyvista')\n",
    "\n",
    "# change to the root directory of the project\n",
    "if os.getcwd().split(\"/\")[-1] == \"examples\":\n",
    "    os.chdir('..')\n",
    "\n",
    "from megspikes.simulation.simulation import Simulation\n",
    "\n",
    "# Setup the path for the simulation\n",
    "sample_path = Path(os.getcwd()) / 'examples' / 'data' / '2_aspire_alphacsc_pipeline'\n",
    "sample_path.mkdir(exist_ok=True, parents=True)\n",
    "\n",
    "import logging\n",
    "import warnings\n",
    "warnings.filterwarnings(\"ignore\", category=DeprecationWarning) \n",
    "logger = logging.getLogger()\n",
    "logger.setLevel(logging.INFO)\n",
    "logging.debug(\"test debug\")\n",
    "logging.info(\"test info\")\n",
    "%load_ext autoreload\n",
    "%autoreload 2"
   ]
  },
  {
   "cell_type": "markdown",
   "metadata": {},
   "source": [
    "## Simulate data\n",
    "\n",
    "For more information see `0_simulation.ipynb`"
   ]
  },
  {
   "cell_type": "code",
   "execution_count": null,
   "metadata": {
    "scrolled": false,
    "tags": []
   },
   "outputs": [],
   "source": [
    "sim = Simulation(sample_path)\n",
    "# sim = Simulation(sample_path, n_events=[15, 15, 0, 0])\n",
    "sim.simulate_dataset()\n",
    "\n",
    "sim"
   ]
  },
  {
   "cell_type": "markdown",
   "metadata": {},
   "source": [
    "## Run Aspire-AlphaCSC Pipeline"
   ]
  },
  {
   "cell_type": "code",
   "execution_count": null,
   "metadata": {},
   "outputs": [],
   "source": [
    "from megspikes.pipeline import aspire_alphacsc_pipeline\n",
    "\n",
    "from sklearn import set_config\n",
    "set_config(display='diagram')\n",
    "set_config(print_changed_only=False)"
   ]
  },
  {
   "cell_type": "markdown",
   "metadata": {},
   "source": [
    "First, we should specify pipeline parameters. All parameters are listed in the `aspire_alphacsc_default_params.yml`."
   ]
  },
  {
   "cell_type": "code",
   "execution_count": null,
   "metadata": {},
   "outputs": [],
   "source": [
    "params = {\n",
    "    'n_ica_components': 5,\n",
    "    'n_runs': 3,\n",
    "    'runs': [0, 1, 2],\n",
    "    'n_atoms': 2,\n",
    "    'PeakDetection': {'width': 2},\n",
    "    'CleanDetections': {'n_cleaned_peaks': 50},\n",
    "    'SelectAlphacscEvents': {\n",
    "        'z_hat_threshold': 1.,\n",
    "        'z_hat_threshold_min': 0.1}\n",
    "}"
   ]
  },
  {
   "cell_type": "markdown",
   "metadata": {},
   "source": [
    "Using these parameters we create `sklear.Pipeline`"
   ]
  },
  {
   "cell_type": "code",
   "execution_count": null,
   "metadata": {},
   "outputs": [],
   "source": [
    "pipe = aspire_alphacsc_pipeline(sim.case_manager, params)\n",
    "pipe"
   ]
  },
  {
   "cell_type": "markdown",
   "metadata": {},
   "source": [
    "We can also save it as an __HTML__ document"
   ]
  },
  {
   "cell_type": "code",
   "execution_count": null,
   "metadata": {},
   "outputs": [],
   "source": [
    "from sklearn.utils import estimator_html_repr\n",
    "with open('my_estimator.html', 'w') as f:  \n",
    "    f.write(estimator_html_repr(pipe))"
   ]
  },
  {
   "cell_type": "markdown",
   "metadata": {},
   "source": [
    "No input is needed to run this pipeline, so we can run it with `X=None`. As an output we acquire `xr.Dataset` with all results and `mne.io.Raw` file."
   ]
  },
  {
   "cell_type": "code",
   "execution_count": null,
   "metadata": {
    "jupyter": {
     "outputs_hidden": true
    },
    "tags": []
   },
   "outputs": [],
   "source": [
    "dataset, raw = pipe.fit_transform(None)"
   ]
  },
  {
   "cell_type": "code",
   "execution_count": null,
   "metadata": {},
   "outputs": [],
   "source": [
    "dataset"
   ]
  },
  {
   "cell_type": "markdown",
   "metadata": {},
   "source": [
    "Now we can also load the created dataset."
   ]
  },
  {
   "cell_type": "code",
   "execution_count": null,
   "metadata": {
    "scrolled": true
   },
   "outputs": [],
   "source": [
    "import xarray as xr\n",
    "dataset = xr.open_dataset(sample_path / 'sample' / 'sample_alphacsc_results.nc')"
   ]
  },
  {
   "cell_type": "markdown",
   "metadata": {},
   "source": [
    "# Visualize detection\n",
    "To visualize the steps of ASPIRE AlphaCSC pipeline `DetectionsViewer` object should be created.\n",
    "For the interactive visualization [Panel](https://panel.holoviz.org/index.html) is used. Created instance of interactive application -- called `app` in this notebook -- could be opened in the notebook by calling the cell with an app object or in the different Web Browser window by calling `app.show()`. All the created applications related to the `DetectionsViewer` are connected and updated simultaneouly with the change of the parameters. "
   ]
  },
  {
   "cell_type": "code",
   "execution_count": null,
   "metadata": {},
   "outputs": [],
   "source": [
    "from megspikes.visualization.visualization import DetectionsViewer\n",
    "pp = DetectionsViewer(dataset, sim.case_manager)"
   ]
  },
  {
   "cell_type": "markdown",
   "metadata": {},
   "source": [
    "## Plot ICA components\n",
    "First part of the detection procedure is based on the ICA decomposition of the raw MEG data. So it would be helpful to visualize ICA components distribution over the sensors."
   ]
  },
  {
   "cell_type": "code",
   "execution_count": null,
   "metadata": {
    "tags": []
   },
   "outputs": [],
   "source": [
    "app = pp.view_ica()\n",
    "# app.show()\n",
    "app"
   ]
  },
  {
   "cell_type": "markdown",
   "metadata": {
    "tags": []
   },
   "source": [
    "## Plot ICA sources and detections\n",
    "To visualize ICA peak detection and selection procedure we plot detected events over the ICA sources timeseries. Note, that we can also view the peaks that were selected after AlphaCSC decomposition and peaks selection."
   ]
  },
  {
   "cell_type": "code",
   "execution_count": null,
   "metadata": {},
   "outputs": [],
   "source": [
    "app = pp.view_ica_sources_and_peaks()\n",
    "# app.show()\n",
    "app"
   ]
  },
  {
   "cell_type": "markdown",
   "metadata": {
    "tags": []
   },
   "source": [
    "## Plot ICA fast RAP-MUSIC localizatons\n",
    "ICA peaks are selected based on results of the RAP-MUSIC algorithm. We can also plot the localization of the ICA peaks in the brain. Note, that the spatio-temporal clusters of the ICA peaks are used to generate final clusters in the original [ASPIRE](https://github.com/kuznesashka/ASPIRE.git) algorithm."
   ]
  },
  {
   "cell_type": "code",
   "execution_count": null,
   "metadata": {},
   "outputs": [],
   "source": [
    "app = pp.view_ica_peak_localizations()\n",
    "app"
   ]
  },
  {
   "cell_type": "markdown",
   "metadata": {},
   "source": [
    "## Plot AlphaCSC atoms\n",
    "As a result of AlphaCSC decomposition we get the spacial portrait of an atom $u$ and a temporal timeseries $v$ which we will plot in this section."
   ]
  },
  {
   "cell_type": "code",
   "execution_count": null,
   "metadata": {},
   "outputs": [],
   "source": [
    "pp.data.alphacsc_atoms"
   ]
  },
  {
   "cell_type": "code",
   "execution_count": null,
   "metadata": {
    "jupyter": {
     "outputs_hidden": true
    },
    "tags": []
   },
   "outputs": [],
   "source": [
    "app = pp.view_alphacsc_atoms()\n",
    "# app.show()\n",
    "app"
   ]
  },
  {
   "cell_type": "markdown",
   "metadata": {},
   "source": [
    "## Plot AlphaCSC selected evets\n",
    "Finally, we might want to look at the generated AlphaCSC atoms and the individual events included in each atom."
   ]
  },
  {
   "cell_type": "code",
   "execution_count": null,
   "metadata": {},
   "outputs": [],
   "source": [
    "app = pp.view_alphacsc_clusters(sim.raw_simulation.copy())\n",
    "# app.show()\n",
    "app"
   ]
  },
  {
   "cell_type": "markdown",
   "metadata": {},
   "source": [
    "# Localize detected clusters"
   ]
  },
  {
   "cell_type": "code",
   "execution_count": null,
   "metadata": {},
   "outputs": [],
   "source": [
    "from megspikes.pipeline import read_detection_iz_prediction_pipeline\n",
    "from sklearn import set_config\n",
    "set_config(display='diagram')\n",
    "set_config(print_changed_only=False)"
   ]
  },
  {
   "cell_type": "code",
   "execution_count": null,
   "metadata": {},
   "outputs": [],
   "source": [
    "params = {\n",
    "    'PrepareClustersDataset': {'detection_sfreq': 200.}\n",
    "}\n",
    "pipe = read_detection_iz_prediction_pipeline(sim.case_manager, params)\n",
    "pipe"
   ]
  },
  {
   "cell_type": "code",
   "execution_count": null,
   "metadata": {},
   "outputs": [],
   "source": [
    "clusters, raw = pipe.fit_transform((dataset, sim.raw_simulation.copy()))"
   ]
  },
  {
   "cell_type": "code",
   "execution_count": null,
   "metadata": {},
   "outputs": [],
   "source": [
    "clusters"
   ]
  },
  {
   "cell_type": "code",
   "execution_count": null,
   "metadata": {},
   "outputs": [],
   "source": [
    "import xarray as xr\n",
    "clusters = xr.open_dataset(sample_path / 'sample' / 'sample_alphacsc_cluster_results.nc')"
   ]
  },
  {
   "cell_type": "markdown",
   "metadata": {},
   "source": [
    "## View clusters using Cluster Slope Viewer"
   ]
  },
  {
   "cell_type": "code",
   "execution_count": null,
   "metadata": {},
   "outputs": [],
   "source": [
    "from megspikes.visualization.visualization import ClusterSlopeViewer"
   ]
  },
  {
   "cell_type": "code",
   "execution_count": null,
   "metadata": {
    "tags": []
   },
   "outputs": [],
   "source": [
    "%matplotlib qt5\n",
    "pc = ClusterSlopeViewer(clusters, sim.case_manager)\n",
    "pc.data.clusters"
   ]
  },
  {
   "cell_type": "code",
   "execution_count": null,
   "metadata": {},
   "outputs": [],
   "source": [
    "pc.view()"
   ]
  },
  {
   "cell_type": "code",
   "execution_count": null,
   "metadata": {},
   "outputs": [],
   "source": [
    "import xarray as xr\n",
    "clusters = xr.open_dataset(sample_path / 'sample' / 'sample_clusters_manually_checked.nc')"
   ]
  },
  {
   "cell_type": "markdown",
   "metadata": {},
   "source": [
    "## Evaluate Irritative Zone prediction"
   ]
  },
  {
   "cell_type": "code",
   "execution_count": null,
   "metadata": {},
   "outputs": [],
   "source": [
    "from megspikes.scoring.scoring import ScoreIZPrediction\n",
    "scorer = ScoreIZPrediction()"
   ]
  },
  {
   "cell_type": "code",
   "execution_count": null,
   "metadata": {},
   "outputs": [],
   "source": [
    "dist = scorer.score(clusters, sim.mni_resection, 'peak')\n",
    "print(f\"Average distance from the resection area is {dist:.0f} mm for the 'peak' condition\")"
   ]
  },
  {
   "cell_type": "code",
   "execution_count": null,
   "metadata": {},
   "outputs": [],
   "source": [
    "dist = scorer.score(clusters, sim.mni_resection, 'slope')\n",
    "print(f\"Average distance from the resection area is {dist:.0f} mm for the 'slope' condition\")"
   ]
  },
  {
   "cell_type": "markdown",
   "metadata": {},
   "source": [
    "### Plot resection and prediction"
   ]
  },
  {
   "cell_type": "code",
   "execution_count": null,
   "metadata": {},
   "outputs": [],
   "source": [
    "%matplotlib inline\n",
    "from nilearn import plotting\n",
    "\n",
    "dist = scorer.score(clusters, sim.mni_resection, 'peak')\n",
    "\n",
    "\n",
    "fig, ax = plt.subplots(figsize=(15, 7))\n",
    "\n",
    "display = plotting.plot_glass_brain(\n",
    "            None, display_mode='lzry', figure=fig, axes=ax)\n",
    "\n",
    "display.add_markers(scorer.detection_mni, marker_color='tomato', alpha=0.2)\n",
    "display.add_markers(sim.mni_resection, marker_color='indigo', alpha=0.6)"
   ]
  },
  {
   "cell_type": "code",
   "execution_count": null,
   "metadata": {},
   "outputs": [],
   "source": []
  }
 ],
 "metadata": {
  "interpreter": {
   "hash": "88cc9035523eff0467ba4e14b04b14c109e54066ba0ed0b97ba61e29b1b30bdf"
  },
  "kernelspec": {
   "display_name": "Python 3.7.10 64-bit ('meg': conda)",
   "language": "python",
   "name": "python3710jvsc74a57bd088cc9035523eff0467ba4e14b04b14c109e54066ba0ed0b97ba61e29b1b30bdf"
  },
  "language_info": {
   "codemirror_mode": {
    "name": "ipython",
    "version": 3
   },
   "file_extension": ".py",
   "mimetype": "text/x-python",
   "name": "python",
   "nbconvert_exporter": "python",
   "pygments_lexer": "ipython3",
   "version": "3.7.10"
  }
 },
 "nbformat": 4,
 "nbformat_minor": 4
}
